{
  "nbformat": 4,
  "nbformat_minor": 0,
  "metadata": {
    "colab": {
      "name": "Week 2.ipynb",
      "provenance": [],
      "authorship_tag": "ABX9TyNlWIeOR3M4JOzyBTW99Xmm",
      "include_colab_link": true
    },
    "kernelspec": {
      "name": "python3",
      "display_name": "Python 3"
    }
  },
  "cells": [
    {
      "cell_type": "markdown",
      "metadata": {
        "id": "view-in-github",
        "colab_type": "text"
      },
      "source": [
        "<a href=\"https://colab.research.google.com/github/ismataranodi2673/OOP-Lab/blob/master/Week_2.ipynb\" target=\"_parent\"><img src=\"https://colab.research.google.com/assets/colab-badge.svg\" alt=\"Open In Colab\"/></a>"
      ]
    },
    {
      "cell_type": "code",
      "metadata": {
        "id": "kzQd84NVklRn"
      },
      "source": [
        ""
      ],
      "execution_count": null,
      "outputs": []
    },
    {
      "cell_type": "markdown",
      "metadata": {
        "id": "iOJCG92_mvhs"
      },
      "source": [
        "# **IF statement**"
      ]
    },
    {
      "cell_type": "code",
      "metadata": {
        "id": "gz5ycYdym3aZ",
        "outputId": "ef318c7a-4b4a-4a5f-c5d9-fa43d5587ff3",
        "colab": {
          "base_uri": "https://localhost:8080/",
          "height": 34
        }
      },
      "source": [
        "grade = 85\n",
        "if grade>=60:\n",
        "  print(\"passed\")"
      ],
      "execution_count": 1,
      "outputs": [
        {
          "output_type": "stream",
          "text": [
            "passed\n"
          ],
          "name": "stdout"
        }
      ]
    },
    {
      "cell_type": "markdown",
      "metadata": {
        "id": "2nfgpaTsnJZi"
      },
      "source": [
        "# **If else statement**"
      ]
    },
    {
      "cell_type": "code",
      "metadata": {
        "id": "ErxpPM-1nREB",
        "outputId": "b6e9d58c-5d24-4876-f03d-594cc6e73b2f",
        "colab": {
          "base_uri": "https://localhost:8080/",
          "height": 34
        }
      },
      "source": [
        "grade =85\n",
        "if grade>=60:\n",
        "  print(\"passed\")\n",
        "else:\n",
        "    print(\"fail\")"
      ],
      "execution_count": 3,
      "outputs": [
        {
          "output_type": "stream",
          "text": [
            "passed\n"
          ],
          "name": "stdout"
        }
      ]
    },
    {
      "cell_type": "markdown",
      "metadata": {
        "id": "mAE9wqWAoGvX"
      },
      "source": [
        "# **IF...elif....else statement**"
      ]
    },
    {
      "cell_type": "code",
      "metadata": {
        "id": "sXwkq2MZoPoX",
        "outputId": "d3f420cd-634c-4f30-c305-f8f462f3e62d",
        "colab": {
          "base_uri": "https://localhost:8080/",
          "height": 34
        }
      },
      "source": [
        "grade =77\n",
        "\n",
        "if grade >=90:\n",
        "  print('A')\n",
        "elif grade >=80:\n",
        "  print('B')\n",
        "elif grade >=70:\n",
        "  print('C')\n",
        "elif grade >=60:\n",
        "  print('D')\n",
        "else:\n",
        "  print('F')"
      ],
      "execution_count": 4,
      "outputs": [
        {
          "output_type": "stream",
          "text": [
            "C\n"
          ],
          "name": "stdout"
        }
      ]
    },
    {
      "cell_type": "markdown",
      "metadata": {
        "id": "0g7HBOrzpfCr"
      },
      "source": [
        "# **While Statement**"
      ]
    },
    {
      "cell_type": "code",
      "metadata": {
        "id": "PpxTmts_pks0",
        "outputId": "8c082856-d00d-440f-9b41-e91201047670",
        "colab": {
          "base_uri": "https://localhost:8080/",
          "height": 34
        }
      },
      "source": [
        "number = 1\n",
        "\n",
        "while (number<10):\n",
        "  print(number, end =\" \") #print in same line with space using end =\" \"\n",
        "  number+=1"
      ],
      "execution_count": 5,
      "outputs": [
        {
          "output_type": "stream",
          "text": [
            "1 2 3 4 5 6 7 8 9 "
          ],
          "name": "stdout"
        }
      ]
    },
    {
      "cell_type": "markdown",
      "metadata": {
        "id": "V0W6Q4VYqWU3"
      },
      "source": [
        "# **For Statement**"
      ]
    },
    {
      "cell_type": "code",
      "metadata": {
        "id": "iMQFEY7Oqb-h",
        "outputId": "30cdeacc-0431-4809-9a5d-0987da8a8439",
        "colab": {
          "base_uri": "https://localhost:8080/",
          "height": 34
        }
      },
      "source": [
        " for character in \"programming\":\n",
        "   print (character, end=\" \")"
      ],
      "execution_count": 6,
      "outputs": [
        {
          "output_type": "stream",
          "text": [
            "p r o g r a m m i n g "
          ],
          "name": "stdout"
        }
      ]
    }
  ]
}